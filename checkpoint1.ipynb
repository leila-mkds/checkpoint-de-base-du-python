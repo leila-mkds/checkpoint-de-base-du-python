{
 "cells": [
  {
   "cell_type": "code",
   "execution_count": 3,
   "id": "dee5c94a",
   "metadata": {},
   "outputs": [
    {
     "name": "stdout",
     "output_type": "stream",
     "text": [
      "<class 'int'>\n",
      "<class 'float'>\n",
      "<class 'bool'>\n",
      "<class 'bool'>\n",
      "<class 'str'>\n"
     ]
    }
   ],
   "source": [
    "a=2\n",
    "b=3.5\n",
    "c=True\n",
    "d=False\n",
    "e=\"salut\"\n",
    "print(type(a))\n",
    "print(type(b))\n",
    "print(type(c))\n",
    "print(type(d))\n",
    "print(type(e))\n",
    "\n"
   ]
  },
  {
   "cell_type": "code",
   "execution_count": 5,
   "id": "29eb9cf5",
   "metadata": {},
   "outputs": [
    {
     "name": "stdout",
     "output_type": "stream",
     "text": [
      "3\n",
      "-1\n",
      "2\n",
      "0.5\n",
      "1\n",
      "1\n",
      "0\n"
     ]
    }
   ],
   "source": [
    "a=1\n",
    "b=2\n",
    "c=a+b\n",
    "d=a-b\n",
    "e=a*b\n",
    "f=a/b\n",
    "g=a%b\n",
    "h=a**b\n",
    "i=a//b\n",
    "print(c)\n",
    "print(d)\n",
    "print(e)\n",
    "print(f)\n",
    "print(g)\n",
    "print(h)\n",
    "print(i)"
   ]
  },
  {
   "cell_type": "code",
   "execution_count": 6,
   "id": "c93b2221",
   "metadata": {},
   "outputs": [
    {
     "name": "stdout",
     "output_type": "stream",
     "text": [
      "False\n",
      "True\n",
      "False\n",
      "True\n",
      "False\n",
      "True\n"
     ]
    }
   ],
   "source": [
    "a=1\n",
    "b=2\n",
    "c=a==b\n",
    "d=a!=b\n",
    "e=a>b\n",
    "f=a<b\n",
    "g=a>=b\n",
    "h=a<=b\n",
    "print(c)\n",
    "print(d)\n",
    "print(e)\n",
    "print(f)\n",
    "print(g)\n",
    "print(h)\n",
    "\n",
    "\n"
   ]
  },
  {
   "cell_type": "code",
   "execution_count": 4,
   "id": "a26bc1f6",
   "metadata": {},
   "outputs": [
    {
     "name": "stdout",
     "output_type": "stream",
     "text": [
      "welcome to python\n",
      "w\n",
      "n\n",
      "welcom\n"
     ]
    },
    {
     "data": {
      "text/plain": [
       "17"
      ]
     },
     "execution_count": 4,
     "metadata": {},
     "output_type": "execute_result"
    }
   ],
   "source": [
    "str=\"welcome to python\"\n",
    "print(str)\n",
    "print(str[0])\n",
    "print(str[-1])\n",
    "print(str[0:6])\n",
    "len(str)"
   ]
  },
  {
   "cell_type": "code",
   "execution_count": 9,
   "id": "28a2aec9",
   "metadata": {},
   "outputs": [
    {
     "name": "stdout",
     "output_type": "stream",
     "text": [
      "25\n",
      "<class 'str'>\n"
     ]
    }
   ],
   "source": [
    "x=\"leila\"\n",
    "y=\"25\"\n",
    "print(int(y))\n",
    "print(type(y))\n"
   ]
  },
  {
   "cell_type": "code",
   "execution_count": 4,
   "id": "9830b90c",
   "metadata": {},
   "outputs": [
    {
     "name": "stdout",
     "output_type": "stream",
     "text": [
      "<class 'str'>\n"
     ]
    }
   ],
   "source": [
    "y=25\n",
    "y=str(y)\n",
    "print(type(y))"
   ]
  },
  {
   "cell_type": "code",
   "execution_count": 5,
   "id": "f035f5b9",
   "metadata": {},
   "outputs": [
    {
     "data": {
      "text/plain": [
       "str"
      ]
     },
     "execution_count": 5,
     "metadata": {},
     "output_type": "execute_result"
    }
   ],
   "source": [
    "type(y)"
   ]
  },
  {
   "cell_type": "code",
   "execution_count": 6,
   "id": "ff2b61e4",
   "metadata": {},
   "outputs": [
    {
     "data": {
      "text/plain": [
       "'25'"
      ]
     },
     "execution_count": 6,
     "metadata": {},
     "output_type": "execute_result"
    }
   ],
   "source": [
    "y"
   ]
  },
  {
   "cell_type": "code",
   "execution_count": 1,
   "id": "81f529ac",
   "metadata": {},
   "outputs": [
    {
     "name": "stdout",
     "output_type": "stream",
     "text": [
      "25\n",
      "<class 'int'>\n"
     ]
    }
   ],
   "source": [
    "y=25\n",
    "print(str(y))\n",
    "print(type(y))\n",
    "#afin de l'afficher comme chaine de caractere il faut utiliser la methode precedante"
   ]
  },
  {
   "cell_type": "code",
   "execution_count": 4,
   "id": "fb9a71db",
   "metadata": {},
   "outputs": [
    {
     "data": {
      "text/plain": [
       "5"
      ]
     },
     "execution_count": 4,
     "metadata": {},
     "output_type": "execute_result"
    }
   ],
   "source": [
    "x=5.5\n",
    "int(x)\n"
   ]
  },
  {
   "cell_type": "code",
   "execution_count": 5,
   "id": "a42ad2ea",
   "metadata": {},
   "outputs": [
    {
     "data": {
      "text/plain": [
       "6"
      ]
     },
     "execution_count": 5,
     "metadata": {},
     "output_type": "execute_result"
    }
   ],
   "source": [
    "x=5.5\n",
    "round(x)"
   ]
  },
  {
   "cell_type": "code",
   "execution_count": 3,
   "id": "5def2bf6",
   "metadata": {},
   "outputs": [
    {
     "data": {
      "text/plain": [
       "5.0"
      ]
     },
     "execution_count": 3,
     "metadata": {},
     "output_type": "execute_result"
    }
   ],
   "source": [
    "x=5\n",
    "float(x)"
   ]
  },
  {
   "cell_type": "code",
   "execution_count": 6,
   "id": "b085498d",
   "metadata": {},
   "outputs": [
    {
     "ename": "ValueError",
     "evalue": "could not convert string to float: '5.7.2'",
     "output_type": "error",
     "traceback": [
      "\u001b[1;31m---------------------------------------------------------------------------\u001b[0m",
      "\u001b[1;31mValueError\u001b[0m                                Traceback (most recent call last)",
      "Input \u001b[1;32mIn [6]\u001b[0m, in \u001b[0;36m<cell line: 2>\u001b[1;34m()\u001b[0m\n\u001b[0;32m      1\u001b[0m x\u001b[38;5;241m=\u001b[39m\u001b[38;5;124m\"\u001b[39m\u001b[38;5;124m5.7.2\u001b[39m\u001b[38;5;124m\"\u001b[39m\n\u001b[1;32m----> 2\u001b[0m \u001b[38;5;28;43mfloat\u001b[39;49m\u001b[43m(\u001b[49m\u001b[43mx\u001b[49m\u001b[43m)\u001b[49m\n",
      "\u001b[1;31mValueError\u001b[0m: could not convert string to float: '5.7.2'"
     ]
    }
   ],
   "source": [
    "x=\"5.7.2\"\n",
    "float(x)\n",
    "#ici c'est faux car dans un chiffre on peut pas avoir plusieurs virgules..."
   ]
  },
  {
   "cell_type": "code",
   "execution_count": 10,
   "id": "d80963b2",
   "metadata": {},
   "outputs": [
    {
     "name": "stdout",
     "output_type": "stream",
     "text": [
      "3 is a positive number\n",
      "this is always printed\n"
     ]
    }
   ],
   "source": [
    "num=3\n",
    "if num>0:\n",
    " print(num,\"is a positive number\")\n",
    "print(\"this is always printed\")\n",
    "#ici afin que ca soit inscrit comme une condition il faut mettre un espace"
   ]
  },
  {
   "cell_type": "code",
   "execution_count": 12,
   "id": "8a9ed4b6",
   "metadata": {},
   "outputs": [
    {
     "name": "stdout",
     "output_type": "stream",
     "text": [
      "positive or zero\n"
     ]
    }
   ],
   "source": [
    "num=3\n",
    "if num>0:\n",
    " print(\"positive or zero\")\n",
    "else:\n",
    " print(\"negative number\")\n"
   ]
  },
  {
   "cell_type": "code",
   "execution_count": 13,
   "id": "c1c03d09",
   "metadata": {},
   "outputs": [
    {
     "name": "stdout",
     "output_type": "stream",
     "text": [
      "negative number\n"
     ]
    }
   ],
   "source": [
    "num=-3\n",
    "if num>0:\n",
    " print(\"positive or zero\")\n",
    "else:\n",
    " print(\"negative number\")\n"
   ]
  },
  {
   "cell_type": "code",
   "execution_count": 16,
   "id": "49d1a9e4",
   "metadata": {},
   "outputs": [
    {
     "name": "stdout",
     "output_type": "stream",
     "text": [
      "x is equal to 10\n"
     ]
    }
   ],
   "source": [
    "x=10\n",
    "if x==1:\n",
    "    print(\"x is equal to 10\")\n",
    "if x==5:\n",
    "    print(\"x is equal to 5\")\n",
    "if x==10:\n",
    "    print(\"x is equal to 10\")\n",
    "else:\n",
    "    print(\"x=\",x)"
   ]
  },
  {
   "cell_type": "code",
   "execution_count": 21,
   "id": "8e3716aa",
   "metadata": {},
   "outputs": [
    {
     "name": "stdout",
     "output_type": "stream",
     "text": [
      "salut 10\n"
     ]
    }
   ],
   "source": [
    "print(\"salut\",x)\n",
    "#le 10 car le x a ete donne comme la valeur de 10"
   ]
  },
  {
   "cell_type": "code",
   "execution_count": 23,
   "id": "64b261b9",
   "metadata": {},
   "outputs": [
    {
     "name": "stdout",
     "output_type": "stream",
     "text": [
      "0\n",
      "1\n",
      "2\n",
      "3\n",
      "4\n"
     ]
    }
   ],
   "source": [
    "for i in range(5):\n",
    " print(i)"
   ]
  },
  {
   "cell_type": "code",
   "execution_count": 25,
   "id": "3ce7fc6a",
   "metadata": {},
   "outputs": [
    {
     "name": "stdout",
     "output_type": "stream",
     "text": [
      "3\n",
      "4\n",
      "5\n",
      "6\n",
      "7\n",
      "8\n",
      "9\n"
     ]
    }
   ],
   "source": [
    "for i in range(3,10,1):\n",
    " print(i)"
   ]
  },
  {
   "cell_type": "code",
   "execution_count": 26,
   "id": "a94a8c23",
   "metadata": {},
   "outputs": [
    {
     "name": "stdout",
     "output_type": "stream",
     "text": [
      "6\n",
      "5\n",
      "3\n",
      "8\n",
      "4\n",
      "2\n",
      "5\n",
      "4\n",
      "11\n",
      "the for ends here\n"
     ]
    }
   ],
   "source": [
    "numbers=[6,5,3,8,4,2,5,4,11]\n",
    "for val in numbers:#iterate over the list\n",
    "    print(val)\n",
    "print(\"the for ends here\")\n",
    "#cette boucle differt par apport a l'autre car cette boucle elle designe l'ensemble de la liste qu;il y a alors elle se\n",
    "#repete pour chaquqe element de cet liste"
   ]
  },
  {
   "cell_type": "code",
   "execution_count": null,
   "id": "b0ff93dd",
   "metadata": {},
   "outputs": [],
   "source": [
    "str=\"welcome to python\"\n",
    "print(str)\n",
    "print(str[0])\n",
    "print(str[-1])\n",
    "print(str[0:6])\n",
    "len(str)"
   ]
  },
  {
   "cell_type": "code",
   "execution_count": null,
   "id": "5c855283",
   "metadata": {},
   "outputs": [],
   "source": [
    "str=\"welcome to python\"\n",
    "print(str)\n",
    "print(str[0])\n",
    "print(str[-1])\n",
    "print(str[0:6])\n",
    "len(str)"
   ]
  },
  {
   "cell_type": "code",
   "execution_count": null,
   "id": "33a28382",
   "metadata": {},
   "outputs": [],
   "source": [
    "str=\"welcome to python\"\n",
    "print(str)\n",
    "print(str[0])\n",
    "print(str[-1])\n",
    "print(str[0:6])\n",
    "len(str)"
   ]
  },
  {
   "cell_type": "code",
   "execution_count": 3,
   "id": "e17e839f",
   "metadata": {},
   "outputs": [
    {
     "name": "stdout",
     "output_type": "stream",
     "text": [
      "donner votre mot de passe:1236\n",
      "votre mot de passe est incorrect\n",
      "veuillez reintroduire votre mot de passe a nouveau\n",
      "donner votre mot de passe:0000\n",
      "mot de passe correct\n"
     ]
    }
   ],
   "source": [
    "motdepasse=input(\"donner votre mot de passe:\")\n",
    "x=\"0000\"\n",
    "while motdepasse!=x:\n",
    " print(\"votre mot de passe est incorrect\")\n",
    " print(\"veuillez reintroduire votre mot de passe a nouveau\")\n",
    " motdepasse=input(\"donner votre mot de passe:\")\n",
    "print(\"mot de passe correct\")\n",
    "\n",
    " \n"
   ]
  },
  {
   "cell_type": "code",
   "execution_count": null,
   "id": "3286eb24",
   "metadata": {},
   "outputs": [],
   "source": []
  },
  {
   "cell_type": "code",
   "execution_count": null,
   "id": "5c0332a0",
   "metadata": {},
   "outputs": [],
   "source": []
  }
 ],
 "metadata": {
  "kernelspec": {
   "display_name": "Python 3 (ipykernel)",
   "language": "python",
   "name": "python3"
  },
  "language_info": {
   "codemirror_mode": {
    "name": "ipython",
    "version": 3
   },
   "file_extension": ".py",
   "mimetype": "text/x-python",
   "name": "python",
   "nbconvert_exporter": "python",
   "pygments_lexer": "ipython3",
   "version": "3.9.12"
  }
 },
 "nbformat": 4,
 "nbformat_minor": 5
}
