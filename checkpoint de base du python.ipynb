{
 "cells": [
  {
   "cell_type": "code",
   "execution_count": 1,
   "id": "6a8f048a",
   "metadata": {},
   "outputs": [
    {
     "name": "stdout",
     "output_type": "stream",
     "text": [
      "veuillez introduire votre prenom:leila\n",
      "veuillez introduire votre nom:mekhides\n",
      "mekhides leila\n"
     ]
    }
   ],
   "source": [
    "#question 1:\n",
    "prenom=input(\"veuillez introduire votre prenom:\")\n",
    "nom=input(\"veuillez introduire votre nom:\")\n",
    "print(nom,prenom)"
   ]
  },
  {
   "cell_type": "code",
   "execution_count": 12,
   "id": "e5953190",
   "metadata": {},
   "outputs": [
    {
     "name": "stdout",
     "output_type": "stream",
     "text": [
      "resultat: 615\n"
     ]
    }
   ],
   "source": [
    "#question 2:\n",
    "n=5\n",
    "n=str(n)\n",
    "nn=n+n\n",
    "nnn=n+n+n\n",
    "s=int(n)+int(nn)+int(nnn)\n",
    "print(\"resultat:\",s)\n",
    "\n",
    "\n"
   ]
  },
  {
   "cell_type": "code",
   "execution_count": 15,
   "id": "3d7da838",
   "metadata": {},
   "outputs": [
    {
     "name": "stdout",
     "output_type": "stream",
     "text": [
      "donner un nombre:4\n",
      "ce nombre est pair\n"
     ]
    }
   ],
   "source": [
    "#question 3:\n",
    "x=input(\"donner un nombre:\")\n",
    "x=int(x)\n",
    "n=x%2\n",
    "if n==0:\n",
    "    print(\"ce nombre est pair\")\n",
    "else:\n",
    "    print(\"ce nombre est impair\")\n",
    " \n"
   ]
  },
  {
   "cell_type": "code",
   "execution_count": 6,
   "id": "e5b89fba",
   "metadata": {},
   "outputs": [
    {
     "name": "stdout",
     "output_type": "stream",
     "text": [
      "2002 2009 2016 2023 2037 2044 2051 2058 2072 2079 2086 2093 2107 2114 2121 2128 2142 2149 2156 2163 2177 2184 2191 2198 2212 2219 2226 2233 2247 2254 2261 2268 2282 2289 2296 2303 2317 2324 2331 2338 2352 2359 2366 2373 2387 2394 2401 2408 2422 2429 2436 2443 2457 2464 2471 2478 2492 2499 2506 2513 2527 2534 2541 2548 2562 2569 2576 2583 2597 2604 2611 2618 2632 2639 2646 2653 2667 2674 2681 2688 2702 2709 2716 2723 2737 2744 2751 2758 2772 2779 2786 2793 2807 2814 2821 2828 2842 2849 2856 2863 2877 2884 2891 2898 2912 2919 2926 2933 2947 2954 2961 2968 2982 2989 2996 3003 3017 3024 3031 3038 3052 3059 3066 3073 3087 3094 3101 3108 3122 3129 3136 3143 3157 3164 3171 3178 3192 3199 "
     ]
    }
   ],
   "source": [
    "#question 4:\n",
    "for i in range(2000,3200,1):\n",
    "    n=i%7\n",
    "    l=i%5\n",
    "    if n==0 and l!=0:\n",
    "        print(i,end=\" \")\n",
    "    \n",
    "    "
   ]
  },
  {
   "cell_type": "code",
   "execution_count": 10,
   "id": "e5f609a7",
   "metadata": {},
   "outputs": [
    {
     "name": "stdout",
     "output_type": "stream",
     "text": [
      "donner la valeur de n8\n",
      "40320\n"
     ]
    }
   ],
   "source": [
    "#question 5:\n",
    "n=input(\"donner la valeur de n\")\n",
    "n=int(n)\n",
    "p=1\n",
    "i=1\n",
    "while i<n:\n",
    "    i=i+1\n",
    "    p=p*i\n",
    "print(p)"
   ]
  },
  {
   "cell_type": "code",
   "execution_count": 11,
   "id": "ff56ed47",
   "metadata": {},
   "outputs": [
    {
     "name": "stdout",
     "output_type": "stream",
     "text": [
      "hlota\n"
     ]
    },
    {
     "data": {
      "text/plain": [
       "10"
      ]
     },
     "execution_count": 11,
     "metadata": {},
     "output_type": "execute_result"
    }
   ],
   "source": [
    "#question 6:\n",
    "str=\"hello team\"\n",
    "print(str[0:10:2])\n",
    "len(str)"
   ]
  },
  {
   "cell_type": "code",
   "execution_count": 13,
   "id": "ba2d83c8",
   "metadata": {},
   "outputs": [
    {
     "name": "stdout",
     "output_type": "stream",
     "text": [
      "donner la valeur de votre prix:500\n",
      "remise de 50%\n"
     ]
    }
   ],
   "source": [
    "#question 7:\n",
    "x=input(\"donner la valeur de votre prix:\")\n",
    "x=int(x)\n",
    "if x>=500:\n",
    "    print(\"remise de 50%\")\n",
    "elif x>=200:\n",
    "    print(\"remise de 30%\")\n",
    "else:\n",
    "    print(\"remise de 10%\")\n"
   ]
  },
  {
   "cell_type": "code",
   "execution_count": null,
   "id": "3eb88721",
   "metadata": {},
   "outputs": [],
   "source": []
  },
  {
   "cell_type": "code",
   "execution_count": null,
   "id": "44301438",
   "metadata": {},
   "outputs": [],
   "source": []
  },
  {
   "cell_type": "code",
   "execution_count": null,
   "id": "fb11bdde",
   "metadata": {},
   "outputs": [],
   "source": []
  }
 ],
 "metadata": {
  "kernelspec": {
   "display_name": "Python 3 (ipykernel)",
   "language": "python",
   "name": "python3"
  },
  "language_info": {
   "codemirror_mode": {
    "name": "ipython",
    "version": 3
   },
   "file_extension": ".py",
   "mimetype": "text/x-python",
   "name": "python",
   "nbconvert_exporter": "python",
   "pygments_lexer": "ipython3",
   "version": "3.9.12"
  }
 },
 "nbformat": 4,
 "nbformat_minor": 5
}
